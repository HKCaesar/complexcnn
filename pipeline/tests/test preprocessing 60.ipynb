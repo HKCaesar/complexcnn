{
 "cells": [
  {
   "cell_type": "code",
   "execution_count": 3,
   "metadata": {
    "collapsed": false
   },
   "outputs": [],
   "source": [
    "import deepdish as dd\n",
    "import numpy as np\n",
    "import h5py\n",
    "\n",
    "testoutput = dd.io.load('finaltest.h5')\n",
    "trainoutput = dd.io.load('finaltrain.h5')"
   ]
  },
  {
   "cell_type": "code",
   "execution_count": 6,
   "metadata": {
    "collapsed": false
   },
   "outputs": [
    {
     "name": "stdout",
     "output_type": "stream",
     "text": [
      "(2400, 2, 60, 101, 2)\n",
      "(2400,)\n",
      "float32\n",
      "float32\n",
      "(7200, 2, 60, 101, 2)\n",
      "(7200,)\n",
      "float32\n",
      "float32\n",
      "should be (2400, 2, 60, 101, 2)/ (2400,)/float32/float32/(7200, 2, 60, 101, 2)/(7200,)/float32/float32)\n"
     ]
    }
   ],
   "source": [
    "#check it\n",
    "print(testoutput['data'].shape)\n",
    "print(testoutput['label'].shape)\n",
    "print(testoutput['data'].dtype)\n",
    "print(testoutput['label'].dtype)\n",
    "\n",
    "print(trainoutput['data'].shape)\n",
    "print(trainoutput['label'].shape)\n",
    "print(trainoutput['data'].dtype)\n",
    "print(trainoutput['label'].dtype)\n",
    "\n",
    "print(\"should be (2400, 2, 60, 101, 2)/ (2400,)/float32/float32/(7200, 2, 60, 101, 2)/(7200,)/float32/float32)\")"
   ]
  },
  {
   "cell_type": "code",
   "execution_count": null,
   "metadata": {
    "collapsed": true
   },
   "outputs": [],
   "source": []
  }
 ],
 "metadata": {
  "anaconda-cloud": {},
  "kernelspec": {
   "display_name": "Python [default]",
   "language": "python",
   "name": "python3"
  },
  "language_info": {
   "codemirror_mode": {
    "name": "ipython",
    "version": 3
   },
   "file_extension": ".py",
   "mimetype": "text/x-python",
   "name": "python",
   "nbconvert_exporter": "python",
   "pygments_lexer": "ipython3",
   "version": "3.5.2"
  }
 },
 "nbformat": 4,
 "nbformat_minor": 1
}
