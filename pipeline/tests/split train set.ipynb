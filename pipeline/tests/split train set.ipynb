{
 "cells": [
  {
   "cell_type": "code",
   "execution_count": 1,
   "metadata": {
    "collapsed": false
   },
   "outputs": [],
   "source": [
    "import deepdish as dd\n",
    "import numpy as np\n",
    "import h5py\n",
    "\n",
    "# train = dd.io.load('itrain.h5')\n",
    "\n",
    "#TAKES COMPLEX VALUE DATA AND FIXES THE NUMPY ARRAY STRUCTURE FOR INPUT TO COMPLEXCAFFE... \n",
    "    #REAL AND IMAGINARY COEFFICIENTS AS FLOATS IN SEPARATE CHANNELS"
   ]
  },
  {
   "cell_type": "code",
   "execution_count": 2,
   "metadata": {
    "collapsed": true
   },
   "outputs": [],
   "source": [
    "t1data = train['data'][:3600]\n",
    "t1label = train['label'][:3600]\n",
    "\n",
    "t2data = train['data'][3600:]\n",
    "t2label = train['label'][3600:]"
   ]
  },
  {
   "cell_type": "code",
   "execution_count": 3,
   "metadata": {
    "collapsed": false
   },
   "outputs": [
    {
     "name": "stdout",
     "output_type": "stream",
     "text": [
      "(3600,)\n",
      "(3600, 2, 513, 101, 2)\n",
      "float64\n"
     ]
    }
   ],
   "source": [
    "print(t1label.shape)\n",
    "print(t2data.shape)\n",
    "print(t1data.dtype)"
   ]
  },
  {
   "cell_type": "code",
   "execution_count": 4,
   "metadata": {
    "collapsed": true
   },
   "outputs": [],
   "source": [
    "# #save out train data:\n",
    "with h5py.File('itrainA.h5', 'w') as itrainA:\n",
    "    itrainA.create_dataset('label', data=t1label)\n",
    "    itrainA.create_dataset('data', data=t1data)\n",
    "    \n",
    "# #save out train data:\n",
    "with h5py.File('itrainB.h5', 'w') as itrainB:\n",
    "    itrainB.create_dataset('label', data=t2label)\n",
    "    itrainB.create_dataset('data', data=t2data)"
   ]
  },
  {
   "cell_type": "code",
   "execution_count": 5,
   "metadata": {
    "collapsed": true
   },
   "outputs": [],
   "source": [
    "trainA = dd.io.load('itrainA.h5')\n"
   ]
  },
  {
   "cell_type": "code",
   "execution_count": null,
   "metadata": {
    "collapsed": true
   },
   "outputs": [],
   "source": [
    "trainA['data'].dtype"
   ]
  },
  {
   "cell_type": "code",
   "execution_count": null,
   "metadata": {
    "collapsed": true
   },
   "outputs": [],
   "source": []
  },
  {
   "cell_type": "code",
   "execution_count": null,
   "metadata": {
    "collapsed": true
   },
   "outputs": [],
   "source": []
  },
  {
   "cell_type": "code",
   "execution_count": 2,
   "metadata": {
    "collapsed": false
   },
   "outputs": [
    {
     "name": "stdout",
     "output_type": "stream",
     "text": [
      "TRAIN\n",
      "(7200, 2, 513, 101)\n",
      "(7200, 2, 513, 101, 1)\n",
      "(7200, 2, 513, 101, 1)\n",
      "(7200, 2, 513, 101, 2)\n"
     ]
    }
   ],
   "source": [
    "#format data for complex caffe\n",
    "\n",
    "# train:\n",
    "print(\"TRAIN\")\n",
    "real = train['data'].real\n",
    "imag = train['data'].imag\n",
    "\n",
    "#release some memory (11.94GB)\n",
    "# %reset_selective train\n",
    "\n",
    "\n",
    "print(real.shape)\n",
    "print(np.expand_dims(real, axis=4).shape)\n",
    "print(np.expand_dims(imag, axis=4).shape)\n",
    "real = np.expand_dims(real, axis=4)\n",
    "imag = np.expand_dims(imag, axis=4)\n",
    "\n",
    "trainconcat = np.concatenate([real, imag], axis=4)\n",
    "print(trainconcat.shape)\n",
    "\n",
    "\n",
    "#release some more memory\n",
    "# %reset_selective imag\n",
    "# %reset_selective real\n",
    "\n",
    "\n",
    "#test:\n",
    "# print(\"TEST\")\n",
    "# real = test['data'].real\n",
    "# imag = test['data'].imag\n",
    "\n",
    "# print(real.shape)\n",
    "# print(np.expand_dims(real, axis=4).shape)\n",
    "# print(np.expand_dims(imag, axis=4).shape)\n",
    "# real = np.expand_dims(real, axis=4)\n",
    "# imag = np.expand_dims(imag, axis=4)\n",
    "\n",
    "# testconcat = np.concatenate([real, imag], axis=4)\n",
    "# print(testconcat.shape)\n"
   ]
  },
  {
   "cell_type": "code",
   "execution_count": 3,
   "metadata": {
    "collapsed": false
   },
   "outputs": [],
   "source": [
    "# #save out train data:\n",
    "with h5py.File('itrain.h5', 'w') as itrain:\n",
    "    itrain.create_dataset('label', data=train['label'])\n",
    "    itrain.create_dataset('data', data=trainconcat)\n",
    "    \n",
    "#save out test data:\n",
    "# with h5py.File('itest.h5', 'w') as itest:\n",
    "#     itest.create_dataset('label', data=test['label'])\n",
    "#     itest.create_dataset('data', data=testconcat)"
   ]
  },
  {
   "cell_type": "code",
   "execution_count": null,
   "metadata": {
    "collapsed": false
   },
   "outputs": [],
   "source": [
    "print(trainconcat.shape)\n"
   ]
  },
  {
   "cell_type": "code",
   "execution_count": 4,
   "metadata": {
    "collapsed": false
   },
   "outputs": [
    {
     "name": "stdout",
     "output_type": "stream",
     "text": [
      "Once deleted, variables cannot be recovered. Proceed (y/[n])?  y\n"
     ]
    }
   ],
   "source": [
    "l = train['label']\n",
    "%reset_selective train"
   ]
  },
  {
   "cell_type": "code",
   "execution_count": 8,
   "metadata": {
    "collapsed": false
   },
   "outputs": [
    {
     "ename": "NameError",
     "evalue": "name 'train' is not defined",
     "output_type": "error",
     "traceback": [
      "\u001b[0;31m---------------------------------------------------------------------------\u001b[0m",
      "\u001b[0;31mNameError\u001b[0m                                 Traceback (most recent call last)",
      "\u001b[0;32m<ipython-input-8-269eb77b41b7>\u001b[0m in \u001b[0;36m<module>\u001b[0;34m()\u001b[0m\n\u001b[0;32m----> 1\u001b[0;31m \u001b[0mtrain\u001b[0m\u001b[0;34m\u001b[0m\u001b[0m\n\u001b[0m",
      "\u001b[0;31mNameError\u001b[0m: name 'train' is not defined"
     ]
    }
   ],
   "source": [
    "train"
   ]
  },
  {
   "cell_type": "code",
   "execution_count": 3,
   "metadata": {
    "collapsed": false
   },
   "outputs": [
    {
     "name": "stdout",
     "output_type": "stream",
     "text": [
      "(2400, 2, 513, 101)\n"
     ]
    }
   ],
   "source": [
    "#check shapes\n",
    "print(test['data'].shape)\n",
    "# print(train['data'].shape)"
   ]
  },
  {
   "cell_type": "code",
   "execution_count": 80,
   "metadata": {
    "collapsed": false
   },
   "outputs": [
    {
     "data": {
      "text/plain": [
       "(0.00044531860378320892+1.1150338234861157e-06j)"
      ]
     },
     "execution_count": 80,
     "metadata": {},
     "output_type": "execute_result"
    }
   ],
   "source": [
    "test['data'][0][0][0][0]"
   ]
  },
  {
   "cell_type": "code",
   "execution_count": 91,
   "metadata": {
    "collapsed": true
   },
   "outputs": [],
   "source": []
  },
  {
   "cell_type": "code",
   "execution_count": 92,
   "metadata": {
    "collapsed": false
   },
   "outputs": [
    {
     "name": "stdout",
     "output_type": "stream",
     "text": [
      "(2400, 2, 513, 101)\n",
      "(2400, 2, 513, 101, 1)\n",
      "(2400, 2, 513, 101, 1)\n"
     ]
    }
   ],
   "source": [
    "print(real.shape)\n",
    "print(np.expand_dims(real, axis=4).shape)\n",
    "print(np.expand_dims(imag, axis=4).shape)\n",
    "real = np.expand_dims(real, axis=4)\n",
    "imag = np.expand_dims(imag, axis=4)"
   ]
  },
  {
   "cell_type": "code",
   "execution_count": 93,
   "metadata": {
    "collapsed": false
   },
   "outputs": [],
   "source": [
    "concat = np.concatenate([real, imag], axis=4)\n",
    "#where [None,:] adds an axis"
   ]
  },
  {
   "cell_type": "code",
   "execution_count": 94,
   "metadata": {
    "collapsed": false
   },
   "outputs": [
    {
     "data": {
      "text/plain": [
       "(2400, 2, 513, 101, 2)"
      ]
     },
     "execution_count": 94,
     "metadata": {},
     "output_type": "execute_result"
    }
   ],
   "source": [
    "concat.shape"
   ]
  },
  {
   "cell_type": "code",
   "execution_count": 95,
   "metadata": {
    "collapsed": false
   },
   "outputs": [
    {
     "data": {
      "text/plain": [
       "array([  4.45318604e-04,   1.11503382e-06])"
      ]
     },
     "execution_count": 95,
     "metadata": {},
     "output_type": "execute_result"
    }
   ],
   "source": [
    "concat[0][0][0][0]"
   ]
  },
  {
   "cell_type": "code",
   "execution_count": null,
   "metadata": {
    "collapsed": false
   },
   "outputs": [],
   "source": []
  },
  {
   "cell_type": "code",
   "execution_count": 3,
   "metadata": {
    "collapsed": false
   },
   "outputs": [],
   "source": [
    "#separate out real and imaginary components\n",
    "real = train['data'][:][:][:].real\n",
    "imag = train['data'][:][:][:].imag"
   ]
  },
  {
   "cell_type": "code",
   "execution_count": 4,
   "metadata": {
    "collapsed": false
   },
   "outputs": [],
   "source": [
    "#stack the data back into two channel representation of complex numbers\n",
    "#all numbers are dtype float64, but first is real, second is imaginary\n",
    "t = np.stack([real, imag])"
   ]
  },
  {
   "cell_type": "code",
   "execution_count": 6,
   "metadata": {
    "collapsed": false
   },
   "outputs": [
    {
     "data": {
      "text/plain": [
       "(2, 7200, 2, 513, 101)"
      ]
     },
     "execution_count": 6,
     "metadata": {},
     "output_type": "execute_result"
    }
   ],
   "source": [
    "t.shape"
   ]
  },
  {
   "cell_type": "code",
   "execution_count": 14,
   "metadata": {
    "collapsed": false
   },
   "outputs": [],
   "source": []
  },
  {
   "cell_type": "code",
   "execution_count": 15,
   "metadata": {
    "collapsed": true
   },
   "outputs": [],
   "source": []
  },
  {
   "cell_type": "code",
   "execution_count": null,
   "metadata": {
    "collapsed": false
   },
   "outputs": [],
   "source": []
  },
  {
   "cell_type": "code",
   "execution_count": 7,
   "metadata": {
    "collapsed": true
   },
   "outputs": [],
   "source": [
    "import h5py"
   ]
  },
  {
   "cell_type": "code",
   "execution_count": 28,
   "metadata": {
    "collapsed": false
   },
   "outputs": [],
   "source": [
    "# test1 = h5py.File(\"testh5py1.hdf5\", \"w\")\n",
    "# train1 = h5py.File(\"trainh5py1.hdf5\", \"w\")"
   ]
  },
  {
   "cell_type": "code",
   "execution_count": 1,
   "metadata": {
    "collapsed": false
   },
   "outputs": [],
   "source": [
    "# test1.create_dataset(\"data\", data=d['data'])\n",
    "# test1.create_dataset(\"label\", data=d['label'])\n",
    "\n",
    "# train1.create_dataset(\"data\", data=test['data'])\n",
    "# train1.create_dataset(\"label\", data=test['label'])"
   ]
  },
  {
   "cell_type": "code",
   "execution_count": 8,
   "metadata": {
    "collapsed": true
   },
   "outputs": [],
   "source": [
    "#save out train data:\n",
    "with h5py.File('trainh5py.h5', 'w') as train:\n",
    "    train.create_dataset('label', data=ddtrain['label'])\n",
    "    train.create_dataset('data', data=ddtrain['data'])\n",
    "    \n",
    "#save out test data:\n",
    "with h5py.File('train1.h5', 'w') as train1:\n",
    "    train1.create_dataset('label', data=train['label'])\n",
    "    train1.create_dataset('data', data=t)"
   ]
  },
  {
   "cell_type": "code",
   "execution_count": null,
   "metadata": {
    "collapsed": false
   },
   "outputs": [],
   "source": []
  },
  {
   "cell_type": "code",
   "execution_count": null,
   "metadata": {
    "collapsed": false
   },
   "outputs": [],
   "source": []
  },
  {
   "cell_type": "code",
   "execution_count": null,
   "metadata": {
    "collapsed": true
   },
   "outputs": [],
   "source": []
  },
  {
   "cell_type": "code",
   "execution_count": 14,
   "metadata": {
    "collapsed": true
   },
   "outputs": [],
   "source": [
    "itrain1 = dd.io.load('itrain1.h5')\n",
    "itrain2 = dd.io.load('itrain2.h5')\n",
    "itrain3 = dd.io.load('itrain3.h5')\n",
    "itrain4 = dd.io.load('itrain4.h5')\n",
    "itrain5 = dd.io.load('itrain5.h5')\n",
    "itrain6 = dd.io.load('itrain6.h5')\n",
    "itrain7 = dd.io.load('itrain7.h5')\n",
    "itrain8 = dd.io.load('itrain8.h5')\n",
    "itrain9 = dd.io.load('itrain9.h5')\n",
    "itrain10 = dd.io.load('itrain10.h5')"
   ]
  },
  {
   "cell_type": "code",
   "execution_count": 15,
   "metadata": {
    "collapsed": false
   },
   "outputs": [],
   "source": [
    "itrain1['data'] = itrain1['data'].astype(np.float32)\n",
    "itrain1['label'] = itrain1['label'].astype(np.float32)\n",
    "\n",
    "itrain2['data'] = itrain2['data'].astype(np.float32)\n",
    "itrain2['label'] = itrain2['label'].astype(np.float32)\n",
    "\n",
    "itrain3['data'] = itrain3['data'].astype(np.float32)\n",
    "itrain3['label'] = itrain3['label'].astype(np.float32)\n",
    "\n",
    "itrain4['data'] = itrain4['data'].astype(np.float32)\n",
    "itrain4['label'] = itrain4['label'].astype(np.float32)\n",
    "\n",
    "itrain5['data'] = itrain5['data'].astype(np.float32)\n",
    "itrain5['label'] = itrain5['label'].astype(np.float32)\n",
    "\n",
    "itrain6['data'] = itrain6['data'].astype(np.float32)\n",
    "itrain6['label'] = itrain6['label'].astype(np.float32)\n",
    "\n",
    "itrain7['data'] = itrain7['data'].astype(np.float32)\n",
    "itrain7['label'] = itrain7['label'].astype(np.float32)\n",
    "\n",
    "itrain8['data'] = itrain8['data'].astype(np.float32)\n",
    "itrain8['label'] = itrain8['label'].astype(np.float32)\n",
    "\n",
    "itrain9['data'] = itrain9['data'].astype(np.float32)\n",
    "itrain9['label'] = itrain9['label'].astype(np.float32)\n",
    "\n",
    "itrain10['data'] = itrain10['data'].astype(np.float32)\n",
    "itrain10['label'] = itrain10['label'].astype(np.float32)"
   ]
  },
  {
   "cell_type": "code",
   "execution_count": 16,
   "metadata": {
    "collapsed": false
   },
   "outputs": [
    {
     "name": "stdout",
     "output_type": "stream",
     "text": [
      "float32\n",
      "float32\n",
      "float32\n",
      "float32\n"
     ]
    }
   ],
   "source": [
    "print(itrain7['data'].dtype)\n",
    "\n",
    "print(itrain5['label'].dtype)\n",
    "\n",
    "print(itrain9['label'].dtype)\n",
    "\n",
    "print(itrain2['data'].dtype)"
   ]
  },
  {
   "cell_type": "code",
   "execution_count": 26,
   "metadata": {
    "collapsed": false
   },
   "outputs": [],
   "source": [
    "# #save out train data:\n",
    "with h5py.File('float32/ft10.h5', 'w') as ltrain:\n",
    "    ltrain.create_dataset('label', data=itrain10['label'])\n",
    "    ltrain.create_dataset('data', data=itrain10['data'])\n",
    "    "
   ]
  },
  {
   "cell_type": "code",
   "execution_count": 27,
   "metadata": {
    "collapsed": true
   },
   "outputs": [],
   "source": [
    "five = dd.io.load('float32/ft5.h5')"
   ]
  },
  {
   "cell_type": "code",
   "execution_count": 32,
   "metadata": {
    "collapsed": false
   },
   "outputs": [
    {
     "data": {
      "text/plain": [
       "(720, 2, 513, 101, 2)"
      ]
     },
     "execution_count": 32,
     "metadata": {},
     "output_type": "execute_result"
    }
   ],
   "source": []
  },
  {
   "cell_type": "code",
   "execution_count": null,
   "metadata": {
    "collapsed": true
   },
   "outputs": [],
   "source": []
  }
 ],
 "metadata": {
  "anaconda-cloud": {},
  "kernelspec": {
   "display_name": "Python [default]",
   "language": "python",
   "name": "python3"
  },
  "language_info": {
   "codemirror_mode": {
    "name": "ipython",
    "version": 3
   },
   "file_extension": ".py",
   "mimetype": "text/x-python",
   "name": "python",
   "nbconvert_exporter": "python",
   "pygments_lexer": "ipython3",
   "version": "3.5.2"
  }
 },
 "nbformat": 4,
 "nbformat_minor": 1
}
